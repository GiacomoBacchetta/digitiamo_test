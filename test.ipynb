{
 "cells": [
  {
   "cell_type": "code",
   "execution_count": 29,
   "metadata": {},
   "outputs": [],
   "source": [
    "import pandas as pd\n",
    "import numpy as np\n",
    "import torch, torchhd"
   ]
  },
  {
   "cell_type": "code",
   "execution_count": 30,
   "metadata": {},
   "outputs": [
    {
     "data": {
      "text/html": [
       "<div>\n",
       "<style scoped>\n",
       "    .dataframe tbody tr th:only-of-type {\n",
       "        vertical-align: middle;\n",
       "    }\n",
       "\n",
       "    .dataframe tbody tr th {\n",
       "        vertical-align: top;\n",
       "    }\n",
       "\n",
       "    .dataframe thead th {\n",
       "        text-align: right;\n",
       "    }\n",
       "</style>\n",
       "<table border=\"1\" class=\"dataframe\">\n",
       "  <thead>\n",
       "    <tr style=\"text-align: right;\">\n",
       "      <th></th>\n",
       "      <th>source</th>\n",
       "      <th>date</th>\n",
       "      <th>title</th>\n",
       "      <th>author</th>\n",
       "      <th>text</th>\n",
       "    </tr>\n",
       "  </thead>\n",
       "  <tbody>\n",
       "    <tr>\n",
       "      <th>0</th>\n",
       "      <td>Mainichi Shimbun</td>\n",
       "      <td>2021-12-06</td>\n",
       "      <td>Editorial: Japan govt's 20,000-yen handout mis...</td>\n",
       "      <td>NaN</td>\n",
       "      <td>The Japanese government is trying to boost the...</td>\n",
       "    </tr>\n",
       "    <tr>\n",
       "      <th>1</th>\n",
       "      <td>Mainichi Shimbun</td>\n",
       "      <td>2021-12-07</td>\n",
       "      <td>Editorial: Time for Japan PM Kishida to delive...</td>\n",
       "      <td>NaN</td>\n",
       "      <td>Prime Minister Fumio Kishida, who won a public...</td>\n",
       "    </tr>\n",
       "    <tr>\n",
       "      <th>2</th>\n",
       "      <td>Mainichi Shimbun</td>\n",
       "      <td>2021-12-08</td>\n",
       "      <td>Editorial: 80 years on from Pearl Harbor, acti...</td>\n",
       "      <td>NaN</td>\n",
       "      <td>It has been 80 years since the start of the Pa...</td>\n",
       "    </tr>\n",
       "    <tr>\n",
       "      <th>3</th>\n",
       "      <td>Mainichi Shimbun</td>\n",
       "      <td>2021-12-08</td>\n",
       "      <td>Yoroku: 80 years later, many lessons still not...</td>\n",
       "      <td>NaN</td>\n",
       "      <td>\"The world has changed completely. The era was...</td>\n",
       "    </tr>\n",
       "    <tr>\n",
       "      <th>4</th>\n",
       "      <td>Mainichi Shimbun</td>\n",
       "      <td>2021-12-08</td>\n",
       "      <td>Promoting respect for human rights behind US '...</td>\n",
       "      <td>NaN</td>\n",
       "      <td>The U.S. administration under President Joe Bi...</td>\n",
       "    </tr>\n",
       "    <tr>\n",
       "      <th>...</th>\n",
       "      <td>...</td>\n",
       "      <td>...</td>\n",
       "      <td>...</td>\n",
       "      <td>...</td>\n",
       "      <td>...</td>\n",
       "    </tr>\n",
       "    <tr>\n",
       "      <th>36884</th>\n",
       "      <td>The Japan Times</td>\n",
       "      <td>2021-06-06</td>\n",
       "      <td>COVID-19 tracker: Tokyo reports 351 new cases ...</td>\n",
       "      <td>NaN</td>\n",
       "      <td>Tokyo confirmed 351 new cases of COVID-19 on S...</td>\n",
       "    </tr>\n",
       "    <tr>\n",
       "      <th>36885</th>\n",
       "      <td>The Japan Times</td>\n",
       "      <td>2021-06-07</td>\n",
       "      <td>Dollar weakens to around ¥109.40 in Tokyo</td>\n",
       "      <td>NaN</td>\n",
       "      <td>The dollar eased to around ¥109.40 in Tokyo tr...</td>\n",
       "    </tr>\n",
       "    <tr>\n",
       "      <th>36886</th>\n",
       "      <td>The Japan Times</td>\n",
       "      <td>2021-06-07</td>\n",
       "      <td>Nikkei ends higher, but gains limited</td>\n",
       "      <td>NaN</td>\n",
       "      <td>The benchmark Nikkei average turned higher on ...</td>\n",
       "    </tr>\n",
       "    <tr>\n",
       "      <th>36887</th>\n",
       "      <td>The Japan Times</td>\n",
       "      <td>2021-06-07</td>\n",
       "      <td>COVID-19 tracker: Osaka reports 72 new cases b...</td>\n",
       "      <td>NaN</td>\n",
       "      <td>Osaka Prefecture reported 72 new COVID-19 case...</td>\n",
       "    </tr>\n",
       "    <tr>\n",
       "      <th>36888</th>\n",
       "      <td>The Japan Times</td>\n",
       "      <td>2021-06-07</td>\n",
       "      <td>Listen up, Odairi the cat has something to say</td>\n",
       "      <td>NaN</td>\n",
       "      <td>If you were around in the early 1960s, you wil...</td>\n",
       "    </tr>\n",
       "  </tbody>\n",
       "</table>\n",
       "<p>36889 rows × 5 columns</p>\n",
       "</div>"
      ],
      "text/plain": [
       "                 source        date  \\\n",
       "0      Mainichi Shimbun  2021-12-06   \n",
       "1      Mainichi Shimbun  2021-12-07   \n",
       "2      Mainichi Shimbun  2021-12-08   \n",
       "3      Mainichi Shimbun  2021-12-08   \n",
       "4      Mainichi Shimbun  2021-12-08   \n",
       "...                 ...         ...   \n",
       "36884   The Japan Times  2021-06-06   \n",
       "36885   The Japan Times  2021-06-07   \n",
       "36886   The Japan Times  2021-06-07   \n",
       "36887   The Japan Times  2021-06-07   \n",
       "36888   The Japan Times  2021-06-07   \n",
       "\n",
       "                                                   title author  \\\n",
       "0      Editorial: Japan govt's 20,000-yen handout mis...    NaN   \n",
       "1      Editorial: Time for Japan PM Kishida to delive...    NaN   \n",
       "2      Editorial: 80 years on from Pearl Harbor, acti...    NaN   \n",
       "3      Yoroku: 80 years later, many lessons still not...    NaN   \n",
       "4      Promoting respect for human rights behind US '...    NaN   \n",
       "...                                                  ...    ...   \n",
       "36884  COVID-19 tracker: Tokyo reports 351 new cases ...    NaN   \n",
       "36885          Dollar weakens to around ¥109.40 in Tokyo    NaN   \n",
       "36886              Nikkei ends higher, but gains limited    NaN   \n",
       "36887  COVID-19 tracker: Osaka reports 72 new cases b...    NaN   \n",
       "36888     Listen up, Odairi the cat has something to say    NaN   \n",
       "\n",
       "                                                    text  \n",
       "0      The Japanese government is trying to boost the...  \n",
       "1      Prime Minister Fumio Kishida, who won a public...  \n",
       "2      It has been 80 years since the start of the Pa...  \n",
       "3      \"The world has changed completely. The era was...  \n",
       "4      The U.S. administration under President Joe Bi...  \n",
       "...                                                  ...  \n",
       "36884  Tokyo confirmed 351 new cases of COVID-19 on S...  \n",
       "36885  The dollar eased to around ¥109.40 in Tokyo tr...  \n",
       "36886  The benchmark Nikkei average turned higher on ...  \n",
       "36887  Osaka Prefecture reported 72 new COVID-19 case...  \n",
       "36888  If you were around in the early 1960s, you wil...  \n",
       "\n",
       "[36889 rows x 5 columns]"
      ]
     },
     "execution_count": 30,
     "metadata": {},
     "output_type": "execute_result"
    }
   ],
   "source": [
    "df = pd.read_csv('english_news.csv', delimiter='\\t', header=0) #non usare delimiter e sep insieme\n",
    "                                                            \n",
    "df"
   ]
  },
  {
   "cell_type": "code",
   "execution_count": 31,
   "metadata": {},
   "outputs": [
    {
     "name": "stdout",
     "output_type": "stream",
     "text": [
      "<class 'pandas.core.frame.DataFrame'>\n",
      "RangeIndex: 36889 entries, 0 to 36888\n",
      "Data columns (total 5 columns):\n",
      " #   Column  Non-Null Count  Dtype \n",
      "---  ------  --------------  ----- \n",
      " 0   source  36889 non-null  object\n",
      " 1   date    36889 non-null  object\n",
      " 2   title   36889 non-null  object\n",
      " 3   author  12846 non-null  object\n",
      " 4   text    36766 non-null  object\n",
      "dtypes: object(5)\n",
      "memory usage: 1.4+ MB\n"
     ]
    }
   ],
   "source": [
    "df.info() # da qui notiamo come author e text hanno dei valori NaN"
   ]
  },
  {
   "cell_type": "code",
   "execution_count": 33,
   "metadata": {},
   "outputs": [],
   "source": [
    "df = df.dropna(subset=['text']) # per ora elimino solo i NaN su date e testi che sono quelli che interessano per la classificazione"
   ]
  },
  {
   "cell_type": "code",
   "execution_count": 34,
   "metadata": {},
   "outputs": [
    {
     "name": "stdout",
     "output_type": "stream",
     "text": [
      "<class 'pandas.core.frame.DataFrame'>\n",
      "Int64Index: 36766 entries, 0 to 36888\n",
      "Data columns (total 5 columns):\n",
      " #   Column  Non-Null Count  Dtype \n",
      "---  ------  --------------  ----- \n",
      " 0   source  36766 non-null  object\n",
      " 1   date    36766 non-null  object\n",
      " 2   title   36766 non-null  object\n",
      " 3   author  12724 non-null  object\n",
      " 4   text    36766 non-null  object\n",
      "dtypes: object(5)\n",
      "memory usage: 1.7+ MB\n"
     ]
    }
   ],
   "source": [
    "df.info() # da qui notiamo come author e text hanno dei valori NaN"
   ]
  },
  {
   "cell_type": "code",
   "execution_count": 35,
   "metadata": {},
   "outputs": [
    {
     "data": {
      "image/png": "[encoded data removed]",
      "text/plain": [
       "<Figure size 800x600 with 1 Axes>"
      ]
     },
     "metadata": {},
     "output_type": "display_data"
    }
   ],
   "source": [
    "import matplotlib.pyplot as plt\n",
    "\n",
    "label_counts = df['source'].value_counts()\n",
    "plt.figure(figsize=(8, 6))\n",
    "plt.bar(label_counts.index, label_counts.values)\n",
    "plt.xlabel('Editori')\n",
    "plt.ylabel('Numero di Campioni')\n",
    "plt.title('Conteggio delle Etichette')\n",
    "plt.show()\n",
    "\n",
    "# dataset altamente sbilanciato"
   ]
  },
  {
   "cell_type": "code",
   "execution_count": 37,
   "metadata": {},
   "outputs": [
    {
     "data": {
      "text/plain": [
       "74"
      ]
     },
     "execution_count": 37,
     "metadata": {},
     "output_type": "execute_result"
    }
   ],
   "source": [
    "df[df['source'] == 'Mainichi Shimbun'].shape[0]\n",
    "\n",
    "# i testi del Mainichi Shimbun sono 74 -> bilancio il dataset effettuando undersampling sulla classe più numerosa"
   ]
  },
  {
   "cell_type": "code",
   "execution_count": 40,
   "metadata": {},
   "outputs": [
    {
     "data": {
      "text/html": [
       "<div>\n",
       "<style scoped>\n",
       "    .dataframe tbody tr th:only-of-type {\n",
       "        vertical-align: middle;\n",
       "    }\n",
       "\n",
       "    .dataframe tbody tr th {\n",
       "        vertical-align: top;\n",
       "    }\n",
       "\n",
       "    .dataframe thead th {\n",
       "        text-align: right;\n",
       "    }\n",
       "</style>\n",
       "<table border=\"1\" class=\"dataframe\">\n",
       "  <thead>\n",
       "    <tr style=\"text-align: right;\">\n",
       "      <th></th>\n",
       "      <th>source</th>\n",
       "      <th>date</th>\n",
       "      <th>title</th>\n",
       "      <th>author</th>\n",
       "      <th>text</th>\n",
       "    </tr>\n",
       "  </thead>\n",
       "  <tbody>\n",
       "    <tr>\n",
       "      <th>1127</th>\n",
       "      <td>The Japan Times</td>\n",
       "      <td>2001-02-02</td>\n",
       "      <td>MMC defect coverup handed to prosecutors</td>\n",
       "      <td>NaN</td>\n",
       "      <td>Prosecutors on Thursday received papers on Mit...</td>\n",
       "    </tr>\n",
       "    <tr>\n",
       "      <th>25148</th>\n",
       "      <td>The Japan Times</td>\n",
       "      <td>2003-04-04</td>\n",
       "      <td>Russian, U.S. ambassadors prepare joint photo ...</td>\n",
       "      <td>Ko Hirano</td>\n",
       "      <td>When he was a young Soviet diplomat assigned t...</td>\n",
       "    </tr>\n",
       "    <tr>\n",
       "      <th>32091</th>\n",
       "      <td>The Japan Times</td>\n",
       "      <td>2006-01-14</td>\n",
       "      <td>Lotte infielder Lee released, eyes move to oth...</td>\n",
       "      <td>NaN</td>\n",
       "      <td>CHIBA –The Lotte Marines have released infield...</td>\n",
       "    </tr>\n",
       "    <tr>\n",
       "      <th>35602</th>\n",
       "      <td>The Japan Times</td>\n",
       "      <td>2018-01-07</td>\n",
       "      <td>Cameroon separatist leader taken into custody ...</td>\n",
       "      <td>NaN</td>\n",
       "      <td>ABUJA/DAKAR –A leading member of a separatist ...</td>\n",
       "    </tr>\n",
       "    <tr>\n",
       "      <th>32053</th>\n",
       "      <td>The Japan Times</td>\n",
       "      <td>2006-01-13</td>\n",
       "      <td>Kaji eyes move to Gamba</td>\n",
       "      <td>NaN</td>\n",
       "      <td>Gamba Osaka are in talks to acquire FC Tokyo a...</td>\n",
       "    </tr>\n",
       "    <tr>\n",
       "      <th>...</th>\n",
       "      <td>...</td>\n",
       "      <td>...</td>\n",
       "      <td>...</td>\n",
       "      <td>...</td>\n",
       "      <td>...</td>\n",
       "    </tr>\n",
       "    <tr>\n",
       "      <th>4742</th>\n",
       "      <td>The Japan Times</td>\n",
       "      <td>2001-05-12</td>\n",
       "      <td>Nighttime services popular among traders</td>\n",
       "      <td>Tooru Hinuma</td>\n",
       "      <td>Around-the-clock global stock trading is becom...</td>\n",
       "    </tr>\n",
       "    <tr>\n",
       "      <th>31593</th>\n",
       "      <td>The Japan Times</td>\n",
       "      <td>2005-01-09</td>\n",
       "      <td>Noguchi eager for shuttle mission</td>\n",
       "      <td>NaN</td>\n",
       "      <td>WASHINGTON –Japanese astronaut Soichi Noguchi ...</td>\n",
       "    </tr>\n",
       "    <tr>\n",
       "      <th>27275</th>\n",
       "      <td>The Japan Times</td>\n",
       "      <td>2003-06-17</td>\n",
       "      <td>Obituary: Shumputei Ryusho</td>\n",
       "      <td>NaN</td>\n",
       "      <td>Popular “rakugo” storyteller Shumputei Ryusho ...</td>\n",
       "    </tr>\n",
       "    <tr>\n",
       "      <th>32079</th>\n",
       "      <td>The Japan Times</td>\n",
       "      <td>2006-01-14</td>\n",
       "      <td>Oil sands mission headed to Canada</td>\n",
       "      <td>NaN</td>\n",
       "      <td>Japan will dispatch its first public-private w...</td>\n",
       "    </tr>\n",
       "    <tr>\n",
       "      <th>11312</th>\n",
       "      <td>The Japan Times</td>\n",
       "      <td>2001-12-05</td>\n",
       "      <td>Hotel tax aired at Tokyo assembly</td>\n",
       "      <td>NaN</td>\n",
       "      <td>A bill that would add a tax of up to 200 yen p...</td>\n",
       "    </tr>\n",
       "  </tbody>\n",
       "</table>\n",
       "<p>74 rows × 5 columns</p>\n",
       "</div>"
      ],
      "text/plain": [
       "                source        date  \\\n",
       "1127   The Japan Times  2001-02-02   \n",
       "25148  The Japan Times  2003-04-04   \n",
       "32091  The Japan Times  2006-01-14   \n",
       "35602  The Japan Times  2018-01-07   \n",
       "32053  The Japan Times  2006-01-13   \n",
       "...                ...         ...   \n",
       "4742   The Japan Times  2001-05-12   \n",
       "31593  The Japan Times  2005-01-09   \n",
       "27275  The Japan Times  2003-06-17   \n",
       "32079  The Japan Times  2006-01-14   \n",
       "11312  The Japan Times  2001-12-05   \n",
       "\n",
       "                                                   title        author  \\\n",
       "1127            MMC defect coverup handed to prosecutors           NaN   \n",
       "25148  Russian, U.S. ambassadors prepare joint photo ...     Ko Hirano   \n",
       "32091  Lotte infielder Lee released, eyes move to oth...           NaN   \n",
       "35602  Cameroon separatist leader taken into custody ...           NaN   \n",
       "32053                            Kaji eyes move to Gamba           NaN   \n",
       "...                                                  ...           ...   \n",
       "4742            Nighttime services popular among traders  Tooru Hinuma   \n",
       "31593                  Noguchi eager for shuttle mission           NaN   \n",
       "27275                         Obituary: Shumputei Ryusho           NaN   \n",
       "32079                 Oil sands mission headed to Canada           NaN   \n",
       "11312                  Hotel tax aired at Tokyo assembly           NaN   \n",
       "\n",
       "                                                    text  \n",
       "1127   Prosecutors on Thursday received papers on Mit...  \n",
       "25148  When he was a young Soviet diplomat assigned t...  \n",
       "32091  CHIBA –The Lotte Marines have released infield...  \n",
       "35602  ABUJA/DAKAR –A leading member of a separatist ...  \n",
       "32053  Gamba Osaka are in talks to acquire FC Tokyo a...  \n",
       "...                                                  ...  \n",
       "4742   Around-the-clock global stock trading is becom...  \n",
       "31593  WASHINGTON –Japanese astronaut Soichi Noguchi ...  \n",
       "27275  Popular “rakugo” storyteller Shumputei Ryusho ...  \n",
       "32079  Japan will dispatch its first public-private w...  \n",
       "11312  A bill that would add a tax of up to 200 yen p...  \n",
       "\n",
       "[74 rows x 5 columns]"
      ]
     },
     "execution_count": 40,
     "metadata": {},
     "output_type": "execute_result"
    }
   ],
   "source": [
    "df_filtered = df[df['source'] == 'The Japan Times'].sample(n=74)"
   ]
  },
  {
   "cell_type": "code",
   "execution_count": null,
   "metadata": {},
   "outputs": [],
   "source": [
    "df_final = pd.concat([df_filtered, df[df['source'] == 'Mainichi Shimbun']])"
   ]
  },
  {
   "cell_type": "code",
   "execution_count": 50,
   "metadata": {},
   "outputs": [
    {
     "name": "stdout",
     "output_type": "stream",
     "text": [
      "Accuracy: 1.00\n"
     ]
    },
    {
     "data": {
      "image/png": "[encoded data removed]",
      "text/plain": [
       "<Figure size 640x480 with 2 Axes>"
      ]
     },
     "metadata": {},
     "output_type": "display_data"
    }
   ],
   "source": [
    "# nel momento in cui le classi, le etichette, sono solo due possiamo implementare una SVM come classificatore lineare\n",
    "\n",
    "from sklearn.feature_extraction.text import CountVectorizer\n",
    "from sklearn.model_selection import train_test_split\n",
    "from sklearn.svm import SVC\n",
    "from sklearn.metrics import accuracy_score, confusion_matrix\n",
    "\n",
    "vectorizer = CountVectorizer()\n",
    "X = vectorizer.fit_transform(df_final['text'])\n",
    "\n",
    "# Splitto in training e validation set\n",
    "X_train, X_val, y_train, y_val = train_test_split(X, df_final['source'], test_size=0.2, random_state=34)\n",
    "\n",
    "\n",
    "svm_classifier = SVC(kernel='linear')\n",
    "svm_classifier.fit(X_train, y_train)\n",
    "\n",
    "y_pred = svm_classifier.predict(X_val)\n",
    "\n",
    "# Scoring\n",
    "accuracy = accuracy_score(y_val, y_pred)\n",
    "print(f\"Accuracy: {accuracy:.2f}\")\n",
    "\n",
    "\n",
    "cm = confusion_matrix(y_val, y_pred)\n",
    "\n",
    "import seaborn as sns\n",
    "cmap = sns.color_palette(\"Blues\")\n",
    "\n",
    "sns.heatmap(cm, annot=True, cmap=cmap, fmt='d', linewidths=1, square=True,\n",
    "            xticklabels=['Mainichi Shimbun', 'The Japan Times'], yticklabels=['Mainichi Shimbun', 'The Japan Times'])\n",
    "\n",
    "plt.xlabel('Predicted Labels')\n",
    "plt.ylabel('True Labels')\n",
    "plt.title('Confusion Matrix')\n",
    "plt.show()"
   ]
  },
  {
   "cell_type": "code",
   "execution_count": null,
   "metadata": {},
   "outputs": [],
   "source": [
    "# NOTE: effettuare l'undersampling ha portato a un migliroamento della precisione sul Manichi Shimbun,\\\n",
    "#  con annessa riduzione di tempo computazionale\n",
    "\n",
    "# NOTE 2: se ci fossero stati più dati si sarebbe anche potuta fare K-folds; i risultati sono già soddisfacenti così"
   ]
  },
  {
   "cell_type": "markdown",
   "metadata": {},
   "source": [
    "### Hyperdimensional Computing"
   ]
  },
  {
   "cell_type": "code",
   "execution_count": null,
   "metadata": {},
   "outputs": [
    {
     "data": {
      "application/vnd.jupyter.widget-view+json": {
       "model_id": "971ea05223af486d9e6c20bdfb1f758f",
       "version_major": 2,
       "version_minor": 0
      },
      "text/plain": [
       "  0%|          | 0/36766 [00:00<?, ?it/s]"
      ]
     },
     "metadata": {},
     "output_type": "display_data"
    }
   ],
   "source": [
    "# # strip di virgole e puntati, solo lettere e spazi e faccio i tetragrammi\n",
    "# # giacomo beve un drink\n",
    "# from tqdm.notebook import tqdm\n",
    "# # costruzione del dizionario di riferimento per i tetragrammi\n",
    "# d = 10000\n",
    "\n",
    "# dict_tetragrammi = {}\n",
    "# for text in tqdm(df['text']):\n",
    "#     # elimino e replace punteggiatura\n",
    "#     text = text.replace('.', '')\n",
    "#     text = text.replace(';', '')\n",
    "#     text = text.replace(':', '')\n",
    "#     text = text.replace('-', '')\n",
    "#     text = text.replace('_', '')\n",
    "#     text = text.replace(',', '')\n",
    "#     text = text.replace(',', '')\n",
    "#     text = text.lower()\n",
    "    \n",
    "#     i = 0\n",
    "#     while i != len(text)-2:\n",
    "#         tetragramma = text[i:3]\n",
    "#         i += 1\n",
    "\n",
    "#         if i not in dict_tetragrammi.keys():\n",
    "#             dict_tetragrammi[tetragramma] = torchhd.random(1,d)"
   ]
  },
  {
   "cell_type": "code",
   "execution_count": null,
   "metadata": {},
   "outputs": [],
   "source": [
    "# def text_to_vec(text, dict):\n",
    "\n",
    "#     text = text.replace('.', '')\n",
    "#     text = text.replace(':', '')\n",
    "#     text = text.replace('-', '')\n",
    "#     text = text.replace('_', '')\n",
    "#     text = text.replace(',', '')\n",
    "#     text = text.replace(';', '')\n",
    "#     # text = text.replace('', '')\n",
    "\n",
    "#     hv = np.array([])\n",
    "\n",
    "#     i = 0\n",
    "#     while i != len(text) - 2:\n",
    "#         tetragramma = text[1:3]\n",
    "#         hv = np.append(hv, dict[tetragramma])\n",
    "#         i += 1\n",
    "\n",
    "#     ary_idx = np.arange(0, len(hv))\n",
    "\n",
    "#     ary_output = np.sum(np.multiply(hv, ary_idx), axis=0)\n",
    "\n",
    "#     return ary_output # sbagliato perchè mi da come risultato un intero"
   ]
  },
  {
   "cell_type": "code",
   "execution_count": null,
   "metadata": {},
   "outputs": [],
   "source": [
    "# Processo di classificazione\n",
    "\n",
    "# import la hyperdimension\n",
    "# d = 10000\n",
    "\n",
    "# keys = torchhd.random(27, d)\n",
    "\n",
    "# a, b, c, d, e, f, g, h, i, j, l, m, n, o, p, q, r, s, t, u, v, w, x, y, z = keys\n",
    "\n",
    "# print(a)\n",
    "\n",
    "# # inserisco in una lista ogni fonte presente in df\n",
    "# ary_source = np.array([])\n",
    "# for editor in df['source']:\n",
    "#     ary_source = np.append(ary_source, editor)\n",
    "\n",
    "# # elimino i doppioni\n",
    "# ary_source = np.unique(ary_source)\n",
    "\n",
    "# dict_ = {}\n",
    "# for i in ary_source:\n",
    "#     values = torch.stack([])\n",
    "#     us = torchhd.hash_table(keys, )\n",
    "#     dict[i] = [values, us]"
   ]
  },
  {
   "cell_type": "code",
   "execution_count": null,
   "metadata": {},
   "outputs": [
    {
     "data": {
      "text/plain": [
       "3768414206600.0"
      ]
     },
     "metadata": {},
     "output_type": "display_data"
    }
   ],
   "source": [
    "# text_to_vec(df['text'][0], dict_tetragrammi)"
   ]
  }
 ],
 "metadata": {
  "kernelspec": {
   "display_name": "base",
   "language": "python",
   "name": "python3"
  },
  "language_info": {
   "codemirror_mode": {
    "name": "ipython",
    "version": 3
   },
   "file_extension": ".py",
   "mimetype": "text/x-python",
   "name": "python",
   "nbconvert_exporter": "python",
   "pygments_lexer": "ipython3",
   "version": "3.9.13"
  },
  "orig_nbformat": 4
 },
 "nbformat": 4,
 "nbformat_minor": 2
}
