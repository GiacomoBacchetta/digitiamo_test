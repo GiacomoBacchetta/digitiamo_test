{
 "cells": [
  {
   "cell_type": "code",
   "execution_count": 36,
   "metadata": {},
   "outputs": [
    {
     "ename": "SyntaxError",
     "evalue": "invalid syntax (1080739569.py, line 2)",
     "output_type": "error",
     "traceback": [
      "\u001b[1;36m  File \u001b[1;32m\"C:\\Users\\giaco\\AppData\\Local\\Temp\\ipykernel_8436\\1080739569.py\"\u001b[1;36m, line \u001b[1;32m2\u001b[0m\n\u001b[1;33m    from sklearn.model_selection import\u001b[0m\n\u001b[1;37m                                        ^\u001b[0m\n\u001b[1;31mSyntaxError\u001b[0m\u001b[1;31m:\u001b[0m invalid syntax\n"
     ]
    }
   ],
   "source": [
    "import pandas as pd\n",
    "import numpy as np"
   ]
  },
  {
   "cell_type": "code",
   "execution_count": null,
   "metadata": {},
   "outputs": [],
   "source": [
    "df = pd.read_csv('english_news.csv', delimiter='\\t', header=0) #non usare delimiter e sep insieme\n",
    "                                                            \n",
    "df"
   ]
  },
  {
   "cell_type": "code",
   "execution_count": null,
   "metadata": {},
   "outputs": [],
   "source": [
    "df.describe()"
   ]
  },
  {
   "cell_type": "code",
   "execution_count": null,
   "metadata": {},
   "outputs": [],
   "source": [
    "df = df.dropna(subset=['source', 'text']) # per ora elimino solo i NaN su date e testi che sono quelli che interessano per la classificazione"
   ]
  },
  {
   "cell_type": "code",
   "execution_count": null,
   "metadata": {},
   "outputs": [],
   "source": [
    "df.describe()"
   ]
  },
  {
   "cell_type": "code",
   "execution_count": null,
   "metadata": {},
   "outputs": [],
   "source": [
    "# strip di virgole e puntati, solo lettere e spazi e faccio i tetragrammi\n",
    "# giacomo beve un drink\n",
    "\n"
   ]
  },
  {
   "cell_type": "code",
   "execution_count": 39,
   "metadata": {},
   "outputs": [
    {
     "name": "stdout",
     "output_type": "stream",
     "text": [
      "torch.Size([3, 10000])\n"
     ]
    }
   ],
   "source": [
    "# Processo di classificazione\n",
    "\n",
    "X = df['text']\n",
    "Y = df['date']\n",
    "\n",
    "# eventualmente fare processo di K-folds cross validation \n",
    "# alternativa: Hyperdimensional computing\n",
    "import torch, torchhd\n",
    "\n",
    "d = 10000\n",
    "\n",
    "keys = torchhd.random(3, d)\n",
    "\n",
    "# country, capital, currency = keys\n",
    "\n",
    "# inserisco in una lista ogni fonte presente in df\n",
    "ary_source = np.array([])\n",
    "for editor in df['source']:\n",
    "    ary_source = np.append(ary_source, editor)\n",
    "\n",
    "# elimino i doppioni\n",
    "ary_source = np.unique(ary_source)\n",
    "\n",
    "dict_ = {}\n",
    "for i in ary_source:\n",
    "    values = torch.stack([])\n",
    "    us = torchhd.hash_table(keys, )\n",
    "    dict[i] = [values, us]"
   ]
  }
 ],
 "metadata": {
  "kernelspec": {
   "display_name": "base",
   "language": "python",
   "name": "python3"
  },
  "language_info": {
   "codemirror_mode": {
    "name": "ipython",
    "version": 3
   },
   "file_extension": ".py",
   "mimetype": "text/x-python",
   "name": "python",
   "nbconvert_exporter": "python",
   "pygments_lexer": "ipython3",
   "version": "3.9.13"
  },
  "orig_nbformat": 4
 },
 "nbformat": 4,
 "nbformat_minor": 2
}
